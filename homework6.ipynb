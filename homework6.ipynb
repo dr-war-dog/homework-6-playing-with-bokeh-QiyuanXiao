{
 "cells": [
  {
   "cell_type": "code",
   "execution_count": 64,
   "metadata": {},
   "outputs": [],
   "source": [
    "import pandas as pd\n",
    "import numpy as np\n",
    "from IPython import __version__ as ipython_version\n",
    "from pandas import __version__ as pandas_version\n",
    "from bokeh import __version__ as bokeh_version\n",
    "from bokeh.io import output_notebook, show\n",
    "from bokeh.plotting import figure\n",
    "from bokeh.models import ColumnDataSource, HoverTool\n",
    "from bokeh.palettes import GnBu3, OrRd3\n",
    "from bokeh.palettes import Viridis10\n",
    "from bokeh.palettes import Plasma10\n",
    "from bokeh.palettes import Category20c\n",
    "import matplotlib.pyplot as plt"
   ]
  },
  {
   "cell_type": "code",
   "execution_count": 65,
   "metadata": {},
   "outputs": [
    {
     "data": {
      "text/html": [
       "\n",
       "    <div class=\"bk-root\">\n",
       "        <a href=\"https://bokeh.pydata.org\" target=\"_blank\" class=\"bk-logo bk-logo-small bk-logo-notebook\"></a>\n",
       "        <span id=\"d1b35de4-8cfb-4634-97cf-a363a4ffeebf\">Loading BokehJS ...</span>\n",
       "    </div>"
      ]
     },
     "metadata": {},
     "output_type": "display_data"
    },
    {
     "data": {
      "application/javascript": [
       "\n",
       "(function(root) {\n",
       "  function now() {\n",
       "    return new Date();\n",
       "  }\n",
       "\n",
       "  var force = true;\n",
       "\n",
       "  if (typeof (root._bokeh_onload_callbacks) === \"undefined\" || force === true) {\n",
       "    root._bokeh_onload_callbacks = [];\n",
       "    root._bokeh_is_loading = undefined;\n",
       "  }\n",
       "\n",
       "  var JS_MIME_TYPE = 'application/javascript';\n",
       "  var HTML_MIME_TYPE = 'text/html';\n",
       "  var EXEC_MIME_TYPE = 'application/vnd.bokehjs_exec.v0+json';\n",
       "  var CLASS_NAME = 'output_bokeh rendered_html';\n",
       "\n",
       "  /**\n",
       "   * Render data to the DOM node\n",
       "   */\n",
       "  function render(props, node) {\n",
       "    var script = document.createElement(\"script\");\n",
       "    node.appendChild(script);\n",
       "  }\n",
       "\n",
       "  /**\n",
       "   * Handle when an output is cleared or removed\n",
       "   */\n",
       "  function handleClearOutput(event, handle) {\n",
       "    var cell = handle.cell;\n",
       "\n",
       "    var id = cell.output_area._bokeh_element_id;\n",
       "    var server_id = cell.output_area._bokeh_server_id;\n",
       "    // Clean up Bokeh references\n",
       "    if (id != null && id in Bokeh.index) {\n",
       "      Bokeh.index[id].model.document.clear();\n",
       "      delete Bokeh.index[id];\n",
       "    }\n",
       "\n",
       "    if (server_id !== undefined) {\n",
       "      // Clean up Bokeh references\n",
       "      var cmd = \"from bokeh.io.state import curstate; print(curstate().uuid_to_server['\" + server_id + \"'].get_sessions()[0].document.roots[0]._id)\";\n",
       "      cell.notebook.kernel.execute(cmd, {\n",
       "        iopub: {\n",
       "          output: function(msg) {\n",
       "            var id = msg.content.text.trim();\n",
       "            if (id in Bokeh.index) {\n",
       "              Bokeh.index[id].model.document.clear();\n",
       "              delete Bokeh.index[id];\n",
       "            }\n",
       "          }\n",
       "        }\n",
       "      });\n",
       "      // Destroy server and session\n",
       "      var cmd = \"import bokeh.io.notebook as ion; ion.destroy_server('\" + server_id + \"')\";\n",
       "      cell.notebook.kernel.execute(cmd);\n",
       "    }\n",
       "  }\n",
       "\n",
       "  /**\n",
       "   * Handle when a new output is added\n",
       "   */\n",
       "  function handleAddOutput(event, handle) {\n",
       "    var output_area = handle.output_area;\n",
       "    var output = handle.output;\n",
       "\n",
       "    // limit handleAddOutput to display_data with EXEC_MIME_TYPE content only\n",
       "    if ((output.output_type != \"display_data\") || (!output.data.hasOwnProperty(EXEC_MIME_TYPE))) {\n",
       "      return\n",
       "    }\n",
       "\n",
       "    var toinsert = output_area.element.find(\".\" + CLASS_NAME.split(' ')[0]);\n",
       "\n",
       "    if (output.metadata[EXEC_MIME_TYPE][\"id\"] !== undefined) {\n",
       "      toinsert[toinsert.length - 1].firstChild.textContent = output.data[JS_MIME_TYPE];\n",
       "      // store reference to embed id on output_area\n",
       "      output_area._bokeh_element_id = output.metadata[EXEC_MIME_TYPE][\"id\"];\n",
       "    }\n",
       "    if (output.metadata[EXEC_MIME_TYPE][\"server_id\"] !== undefined) {\n",
       "      var bk_div = document.createElement(\"div\");\n",
       "      bk_div.innerHTML = output.data[HTML_MIME_TYPE];\n",
       "      var script_attrs = bk_div.children[0].attributes;\n",
       "      for (var i = 0; i < script_attrs.length; i++) {\n",
       "        toinsert[toinsert.length - 1].firstChild.setAttribute(script_attrs[i].name, script_attrs[i].value);\n",
       "      }\n",
       "      // store reference to server id on output_area\n",
       "      output_area._bokeh_server_id = output.metadata[EXEC_MIME_TYPE][\"server_id\"];\n",
       "    }\n",
       "  }\n",
       "\n",
       "  function register_renderer(events, OutputArea) {\n",
       "\n",
       "    function append_mime(data, metadata, element) {\n",
       "      // create a DOM node to render to\n",
       "      var toinsert = this.create_output_subarea(\n",
       "        metadata,\n",
       "        CLASS_NAME,\n",
       "        EXEC_MIME_TYPE\n",
       "      );\n",
       "      this.keyboard_manager.register_events(toinsert);\n",
       "      // Render to node\n",
       "      var props = {data: data, metadata: metadata[EXEC_MIME_TYPE]};\n",
       "      render(props, toinsert[toinsert.length - 1]);\n",
       "      element.append(toinsert);\n",
       "      return toinsert\n",
       "    }\n",
       "\n",
       "    /* Handle when an output is cleared or removed */\n",
       "    events.on('clear_output.CodeCell', handleClearOutput);\n",
       "    events.on('delete.Cell', handleClearOutput);\n",
       "\n",
       "    /* Handle when a new output is added */\n",
       "    events.on('output_added.OutputArea', handleAddOutput);\n",
       "\n",
       "    /**\n",
       "     * Register the mime type and append_mime function with output_area\n",
       "     */\n",
       "    OutputArea.prototype.register_mime_type(EXEC_MIME_TYPE, append_mime, {\n",
       "      /* Is output safe? */\n",
       "      safe: true,\n",
       "      /* Index of renderer in `output_area.display_order` */\n",
       "      index: 0\n",
       "    });\n",
       "  }\n",
       "\n",
       "  // register the mime type if in Jupyter Notebook environment and previously unregistered\n",
       "  if (root.Jupyter !== undefined) {\n",
       "    var events = require('base/js/events');\n",
       "    var OutputArea = require('notebook/js/outputarea').OutputArea;\n",
       "\n",
       "    if (OutputArea.prototype.mime_types().indexOf(EXEC_MIME_TYPE) == -1) {\n",
       "      register_renderer(events, OutputArea);\n",
       "    }\n",
       "  }\n",
       "\n",
       "  \n",
       "  if (typeof (root._bokeh_timeout) === \"undefined\" || force === true) {\n",
       "    root._bokeh_timeout = Date.now() + 5000;\n",
       "    root._bokeh_failed_load = false;\n",
       "  }\n",
       "\n",
       "  var NB_LOAD_WARNING = {'data': {'text/html':\n",
       "     \"<div style='background-color: #fdd'>\\n\"+\n",
       "     \"<p>\\n\"+\n",
       "     \"BokehJS does not appear to have successfully loaded. If loading BokehJS from CDN, this \\n\"+\n",
       "     \"may be due to a slow or bad network connection. Possible fixes:\\n\"+\n",
       "     \"</p>\\n\"+\n",
       "     \"<ul>\\n\"+\n",
       "     \"<li>re-rerun `output_notebook()` to attempt to load from CDN again, or</li>\\n\"+\n",
       "     \"<li>use INLINE resources instead, as so:</li>\\n\"+\n",
       "     \"</ul>\\n\"+\n",
       "     \"<code>\\n\"+\n",
       "     \"from bokeh.resources import INLINE\\n\"+\n",
       "     \"output_notebook(resources=INLINE)\\n\"+\n",
       "     \"</code>\\n\"+\n",
       "     \"</div>\"}};\n",
       "\n",
       "  function display_loaded() {\n",
       "    var el = document.getElementById(\"d1b35de4-8cfb-4634-97cf-a363a4ffeebf\");\n",
       "    if (el != null) {\n",
       "      el.textContent = \"BokehJS is loading...\";\n",
       "    }\n",
       "    if (root.Bokeh !== undefined) {\n",
       "      if (el != null) {\n",
       "        el.textContent = \"BokehJS \" + root.Bokeh.version + \" successfully loaded.\";\n",
       "      }\n",
       "    } else if (Date.now() < root._bokeh_timeout) {\n",
       "      setTimeout(display_loaded, 100)\n",
       "    }\n",
       "  }\n",
       "\n",
       "\n",
       "  function run_callbacks() {\n",
       "    try {\n",
       "      root._bokeh_onload_callbacks.forEach(function(callback) { callback() });\n",
       "    }\n",
       "    finally {\n",
       "      delete root._bokeh_onload_callbacks\n",
       "    }\n",
       "    console.info(\"Bokeh: all callbacks have finished\");\n",
       "  }\n",
       "\n",
       "  function load_libs(js_urls, callback) {\n",
       "    root._bokeh_onload_callbacks.push(callback);\n",
       "    if (root._bokeh_is_loading > 0) {\n",
       "      console.log(\"Bokeh: BokehJS is being loaded, scheduling callback at\", now());\n",
       "      return null;\n",
       "    }\n",
       "    if (js_urls == null || js_urls.length === 0) {\n",
       "      run_callbacks();\n",
       "      return null;\n",
       "    }\n",
       "    console.log(\"Bokeh: BokehJS not loaded, scheduling load and callback at\", now());\n",
       "    root._bokeh_is_loading = js_urls.length;\n",
       "    for (var i = 0; i < js_urls.length; i++) {\n",
       "      var url = js_urls[i];\n",
       "      var s = document.createElement('script');\n",
       "      s.src = url;\n",
       "      s.async = false;\n",
       "      s.onreadystatechange = s.onload = function() {\n",
       "        root._bokeh_is_loading--;\n",
       "        if (root._bokeh_is_loading === 0) {\n",
       "          console.log(\"Bokeh: all BokehJS libraries loaded\");\n",
       "          run_callbacks()\n",
       "        }\n",
       "      };\n",
       "      s.onerror = function() {\n",
       "        console.warn(\"failed to load library \" + url);\n",
       "      };\n",
       "      console.log(\"Bokeh: injecting script tag for BokehJS library: \", url);\n",
       "      document.getElementsByTagName(\"head\")[0].appendChild(s);\n",
       "    }\n",
       "  };var element = document.getElementById(\"d1b35de4-8cfb-4634-97cf-a363a4ffeebf\");\n",
       "  if (element == null) {\n",
       "    console.log(\"Bokeh: ERROR: autoload.js configured with elementid 'd1b35de4-8cfb-4634-97cf-a363a4ffeebf' but no matching script tag was found. \")\n",
       "    return false;\n",
       "  }\n",
       "\n",
       "  var js_urls = [\"https://cdn.pydata.org/bokeh/release/bokeh-0.13.0.min.js\", \"https://cdn.pydata.org/bokeh/release/bokeh-widgets-0.13.0.min.js\", \"https://cdn.pydata.org/bokeh/release/bokeh-tables-0.13.0.min.js\", \"https://cdn.pydata.org/bokeh/release/bokeh-gl-0.13.0.min.js\"];\n",
       "\n",
       "  var inline_js = [\n",
       "    function(Bokeh) {\n",
       "      Bokeh.set_log_level(\"info\");\n",
       "    },\n",
       "    \n",
       "    function(Bokeh) {\n",
       "      \n",
       "    },\n",
       "    function(Bokeh) {\n",
       "      console.log(\"Bokeh: injecting CSS: https://cdn.pydata.org/bokeh/release/bokeh-0.13.0.min.css\");\n",
       "      Bokeh.embed.inject_css(\"https://cdn.pydata.org/bokeh/release/bokeh-0.13.0.min.css\");\n",
       "      console.log(\"Bokeh: injecting CSS: https://cdn.pydata.org/bokeh/release/bokeh-widgets-0.13.0.min.css\");\n",
       "      Bokeh.embed.inject_css(\"https://cdn.pydata.org/bokeh/release/bokeh-widgets-0.13.0.min.css\");\n",
       "      console.log(\"Bokeh: injecting CSS: https://cdn.pydata.org/bokeh/release/bokeh-tables-0.13.0.min.css\");\n",
       "      Bokeh.embed.inject_css(\"https://cdn.pydata.org/bokeh/release/bokeh-tables-0.13.0.min.css\");\n",
       "    }\n",
       "  ];\n",
       "\n",
       "  function run_inline_js() {\n",
       "    \n",
       "    if ((root.Bokeh !== undefined) || (force === true)) {\n",
       "      for (var i = 0; i < inline_js.length; i++) {\n",
       "        inline_js[i].call(root, root.Bokeh);\n",
       "      }if (force === true) {\n",
       "        display_loaded();\n",
       "      }} else if (Date.now() < root._bokeh_timeout) {\n",
       "      setTimeout(run_inline_js, 100);\n",
       "    } else if (!root._bokeh_failed_load) {\n",
       "      console.log(\"Bokeh: BokehJS failed to load within specified timeout.\");\n",
       "      root._bokeh_failed_load = true;\n",
       "    } else if (force !== true) {\n",
       "      var cell = $(document.getElementById(\"d1b35de4-8cfb-4634-97cf-a363a4ffeebf\")).parents('.cell').data().cell;\n",
       "      cell.output_area.append_execute_result(NB_LOAD_WARNING)\n",
       "    }\n",
       "\n",
       "  }\n",
       "\n",
       "  if (root._bokeh_is_loading === 0) {\n",
       "    console.log(\"Bokeh: BokehJS loaded, going straight to plotting\");\n",
       "    run_inline_js();\n",
       "  } else {\n",
       "    load_libs(js_urls, function() {\n",
       "      console.log(\"Bokeh: BokehJS plotting callback run at\", now());\n",
       "      run_inline_js();\n",
       "    });\n",
       "  }\n",
       "}(window));"
      ],
      "application/vnd.bokehjs_load.v0+json": "\n(function(root) {\n  function now() {\n    return new Date();\n  }\n\n  var force = true;\n\n  if (typeof (root._bokeh_onload_callbacks) === \"undefined\" || force === true) {\n    root._bokeh_onload_callbacks = [];\n    root._bokeh_is_loading = undefined;\n  }\n\n  \n\n  \n  if (typeof (root._bokeh_timeout) === \"undefined\" || force === true) {\n    root._bokeh_timeout = Date.now() + 5000;\n    root._bokeh_failed_load = false;\n  }\n\n  var NB_LOAD_WARNING = {'data': {'text/html':\n     \"<div style='background-color: #fdd'>\\n\"+\n     \"<p>\\n\"+\n     \"BokehJS does not appear to have successfully loaded. If loading BokehJS from CDN, this \\n\"+\n     \"may be due to a slow or bad network connection. Possible fixes:\\n\"+\n     \"</p>\\n\"+\n     \"<ul>\\n\"+\n     \"<li>re-rerun `output_notebook()` to attempt to load from CDN again, or</li>\\n\"+\n     \"<li>use INLINE resources instead, as so:</li>\\n\"+\n     \"</ul>\\n\"+\n     \"<code>\\n\"+\n     \"from bokeh.resources import INLINE\\n\"+\n     \"output_notebook(resources=INLINE)\\n\"+\n     \"</code>\\n\"+\n     \"</div>\"}};\n\n  function display_loaded() {\n    var el = document.getElementById(\"d1b35de4-8cfb-4634-97cf-a363a4ffeebf\");\n    if (el != null) {\n      el.textContent = \"BokehJS is loading...\";\n    }\n    if (root.Bokeh !== undefined) {\n      if (el != null) {\n        el.textContent = \"BokehJS \" + root.Bokeh.version + \" successfully loaded.\";\n      }\n    } else if (Date.now() < root._bokeh_timeout) {\n      setTimeout(display_loaded, 100)\n    }\n  }\n\n\n  function run_callbacks() {\n    try {\n      root._bokeh_onload_callbacks.forEach(function(callback) { callback() });\n    }\n    finally {\n      delete root._bokeh_onload_callbacks\n    }\n    console.info(\"Bokeh: all callbacks have finished\");\n  }\n\n  function load_libs(js_urls, callback) {\n    root._bokeh_onload_callbacks.push(callback);\n    if (root._bokeh_is_loading > 0) {\n      console.log(\"Bokeh: BokehJS is being loaded, scheduling callback at\", now());\n      return null;\n    }\n    if (js_urls == null || js_urls.length === 0) {\n      run_callbacks();\n      return null;\n    }\n    console.log(\"Bokeh: BokehJS not loaded, scheduling load and callback at\", now());\n    root._bokeh_is_loading = js_urls.length;\n    for (var i = 0; i < js_urls.length; i++) {\n      var url = js_urls[i];\n      var s = document.createElement('script');\n      s.src = url;\n      s.async = false;\n      s.onreadystatechange = s.onload = function() {\n        root._bokeh_is_loading--;\n        if (root._bokeh_is_loading === 0) {\n          console.log(\"Bokeh: all BokehJS libraries loaded\");\n          run_callbacks()\n        }\n      };\n      s.onerror = function() {\n        console.warn(\"failed to load library \" + url);\n      };\n      console.log(\"Bokeh: injecting script tag for BokehJS library: \", url);\n      document.getElementsByTagName(\"head\")[0].appendChild(s);\n    }\n  };var element = document.getElementById(\"d1b35de4-8cfb-4634-97cf-a363a4ffeebf\");\n  if (element == null) {\n    console.log(\"Bokeh: ERROR: autoload.js configured with elementid 'd1b35de4-8cfb-4634-97cf-a363a4ffeebf' but no matching script tag was found. \")\n    return false;\n  }\n\n  var js_urls = [\"https://cdn.pydata.org/bokeh/release/bokeh-0.13.0.min.js\", \"https://cdn.pydata.org/bokeh/release/bokeh-widgets-0.13.0.min.js\", \"https://cdn.pydata.org/bokeh/release/bokeh-tables-0.13.0.min.js\", \"https://cdn.pydata.org/bokeh/release/bokeh-gl-0.13.0.min.js\"];\n\n  var inline_js = [\n    function(Bokeh) {\n      Bokeh.set_log_level(\"info\");\n    },\n    \n    function(Bokeh) {\n      \n    },\n    function(Bokeh) {\n      console.log(\"Bokeh: injecting CSS: https://cdn.pydata.org/bokeh/release/bokeh-0.13.0.min.css\");\n      Bokeh.embed.inject_css(\"https://cdn.pydata.org/bokeh/release/bokeh-0.13.0.min.css\");\n      console.log(\"Bokeh: injecting CSS: https://cdn.pydata.org/bokeh/release/bokeh-widgets-0.13.0.min.css\");\n      Bokeh.embed.inject_css(\"https://cdn.pydata.org/bokeh/release/bokeh-widgets-0.13.0.min.css\");\n      console.log(\"Bokeh: injecting CSS: https://cdn.pydata.org/bokeh/release/bokeh-tables-0.13.0.min.css\");\n      Bokeh.embed.inject_css(\"https://cdn.pydata.org/bokeh/release/bokeh-tables-0.13.0.min.css\");\n    }\n  ];\n\n  function run_inline_js() {\n    \n    if ((root.Bokeh !== undefined) || (force === true)) {\n      for (var i = 0; i < inline_js.length; i++) {\n        inline_js[i].call(root, root.Bokeh);\n      }if (force === true) {\n        display_loaded();\n      }} else if (Date.now() < root._bokeh_timeout) {\n      setTimeout(run_inline_js, 100);\n    } else if (!root._bokeh_failed_load) {\n      console.log(\"Bokeh: BokehJS failed to load within specified timeout.\");\n      root._bokeh_failed_load = true;\n    } else if (force !== true) {\n      var cell = $(document.getElementById(\"d1b35de4-8cfb-4634-97cf-a363a4ffeebf\")).parents('.cell').data().cell;\n      cell.output_area.append_execute_result(NB_LOAD_WARNING)\n    }\n\n  }\n\n  if (root._bokeh_is_loading === 0) {\n    console.log(\"Bokeh: BokehJS loaded, going straight to plotting\");\n    run_inline_js();\n  } else {\n    load_libs(js_urls, function() {\n      console.log(\"Bokeh: BokehJS plotting callback run at\", now());\n      run_inline_js();\n    });\n  }\n}(window));"
     },
     "metadata": {},
     "output_type": "display_data"
    }
   ],
   "source": [
    "output_notebook()"
   ]
  },
  {
   "cell_type": "code",
   "execution_count": 66,
   "metadata": {},
   "outputs": [],
   "source": [
    "data = pd.read_csv('F:\\\\UIUC\\\\590DV\\\\homework6\\\\2007_2017_members.csv')"
   ]
  },
  {
   "cell_type": "markdown",
   "metadata": {},
   "source": [
    "### Because we are trying to investigate the country's government corruption situation, there is no urgent need to look into data that are ages ago. Thus, I choose the most recent 10 years from 2007 to 2017 to get a glimpse of what is happening in the U.S. Senate election.  \n",
    "### This homework will focus on the following 2 questions:\n",
    "### 1. How were those candidate elected ?\n",
    "### 2. What percentage were each party members selected during 2007 to 2017?"
   ]
  },
  {
   "cell_type": "markdown",
   "metadata": {},
   "source": [
    "### 1. How were those candidate elected ?\n",
    "Based on what is explained in the data dictionary of the election data, I choose variable 'last means' to see in the 10 year-period how the candidated were elected by calculating how much of each way in all four electing ways using a bar chart."
   ]
  },
  {
   "cell_type": "code",
   "execution_count": 73,
   "metadata": {},
   "outputs": [],
   "source": [
    "data['last_means'] = data['last_means'].astype(int)\n",
    "count1 = 0\n",
    "count2 = 0\n",
    "count3 = 0\n",
    "count5 = 0\n",
    "countall = 0\n",
    "for index,row in data.iterrows():\n",
    "    countall = countall +1\n",
    "    if row['last_means'] == 1:\n",
    "        count1 = count1+1\n",
    "    elif row['last_means'] == 2:\n",
    "        count2 = count2+1\n",
    "    elif row['last_means'] == 3:\n",
    "        count3 = count3+1\n",
    "    else:\n",
    "        count5 = count5+1\n"
   ]
  },
  {
   "cell_type": "code",
   "execution_count": 74,
   "metadata": {},
   "outputs": [
    {
     "data": {
      "text/html": [
       "\n",
       "\n",
       "\n",
       "\n",
       "\n",
       "\n",
       "  <div class=\"bk-root\" id=\"cf730f0c-7058-4ec4-a699-459aba6cc01d\"></div>\n"
      ]
     },
     "metadata": {},
     "output_type": "display_data"
    },
    {
     "data": {
      "application/javascript": [
       "(function(root) {\n",
       "  function embed_document(root) {\n",
       "    \n",
       "  var docs_json = {\"795e8b2a-7a6c-4910-a41e-b30bbd66b810\":{\"roots\":{\"references\":[{\"attributes\":{\"callback\":null,\"factors\":[\"general election\",\"special election\",\"state legislature\",\"appointed\"]},\"id\":\"1a7bdc53-9f7a-47fd-b9d9-ef792530f85e\",\"type\":\"FactorRange\"},{\"attributes\":{\"fill_color\":{\"value\":\"#1f77b4\"},\"line_color\":{\"value\":\"#1f77b4\"},\"top\":{\"field\":\"top\"},\"width\":{\"value\":0.7},\"x\":{\"field\":\"x\"}},\"id\":\"2461e2e3-da0e-49ba-8c45-a8d388eb6363\",\"type\":\"VBar\"},{\"attributes\":{\"source\":{\"id\":\"7650231e-6815-4a1c-b45d-4f68c39bc143\",\"type\":\"ColumnDataSource\"}},\"id\":\"d5a05038-c876-4424-a713-f7efae410699\",\"type\":\"CDSView\"},{\"attributes\":{\"active_drag\":\"auto\",\"active_inspect\":\"auto\",\"active_multi\":null,\"active_scroll\":\"auto\",\"active_tap\":\"auto\",\"tools\":[{\"id\":\"935544c0-c712-472f-acf6-5e4bb050b3cb\",\"type\":\"PanTool\"},{\"id\":\"a4cb9034-40fc-4988-921f-01e67378363b\",\"type\":\"WheelZoomTool\"},{\"id\":\"19b8c142-1d43-4147-9bd2-e90f2e152b08\",\"type\":\"BoxZoomTool\"},{\"id\":\"13b2513b-4f69-44ae-8566-924f5519eb7d\",\"type\":\"SaveTool\"},{\"id\":\"5f396d11-dbeb-49ba-a8d5-e85a934f08da\",\"type\":\"ResetTool\"},{\"id\":\"60c70452-9b59-4cf6-aac3-e3c908d63b3d\",\"type\":\"HelpTool\"}]},\"id\":\"2859699b-0c1d-4b4c-826f-6ddb310528af\",\"type\":\"Toolbar\"},{\"attributes\":{\"dimension\":1,\"plot\":{\"id\":\"5b790996-8a17-49f8-a209-e28ace96247f\",\"subtype\":\"Figure\",\"type\":\"Plot\"},\"ticker\":{\"id\":\"a0b46cb9-6b7e-4632-98b1-d008e79d0f3c\",\"type\":\"BasicTicker\"}},\"id\":\"0cbb5f8f-b856-4b0e-a38b-96ca66c4b6ab\",\"type\":\"Grid\"},{\"attributes\":{},\"id\":\"4cf7f938-5cc6-45bf-aadc-75acdfa90a7d\",\"type\":\"CategoricalTickFormatter\"},{\"attributes\":{},\"id\":\"60c70452-9b59-4cf6-aac3-e3c908d63b3d\",\"type\":\"HelpTool\"},{\"attributes\":{\"below\":[{\"id\":\"b7e979a3-b516-476c-9d45-591f7fc977b4\",\"type\":\"CategoricalAxis\"}],\"left\":[{\"id\":\"277222a1-e263-439e-968f-7038a343cd82\",\"type\":\"LinearAxis\"}],\"plot_height\":250,\"renderers\":[{\"id\":\"b7e979a3-b516-476c-9d45-591f7fc977b4\",\"type\":\"CategoricalAxis\"},{\"id\":\"3e1e10b5-6274-4fd5-a6b0-2c23d1b9a461\",\"type\":\"Grid\"},{\"id\":\"277222a1-e263-439e-968f-7038a343cd82\",\"type\":\"LinearAxis\"},{\"id\":\"0cbb5f8f-b856-4b0e-a38b-96ca66c4b6ab\",\"type\":\"Grid\"},{\"id\":\"0feedf09-5e0c-4fc0-869a-dc12498c7aca\",\"type\":\"BoxAnnotation\"},{\"id\":\"da0f9ed8-25eb-46c3-8ce1-4cff5eafc759\",\"type\":\"GlyphRenderer\"}],\"title\":{\"id\":\"ab1de4dd-89aa-4b3d-8cb5-9edcdc195f6b\",\"type\":\"Title\"},\"toolbar\":{\"id\":\"2859699b-0c1d-4b4c-826f-6ddb310528af\",\"type\":\"Toolbar\"},\"x_range\":{\"id\":\"1a7bdc53-9f7a-47fd-b9d9-ef792530f85e\",\"type\":\"FactorRange\"},\"x_scale\":{\"id\":\"77071d57-47d0-4c40-833a-5ce88b605398\",\"type\":\"CategoricalScale\"},\"y_range\":{\"id\":\"41c42b0d-b418-430d-bc21-6fa5fc63705a\",\"type\":\"DataRange1d\"},\"y_scale\":{\"id\":\"2111a077-9a0f-45f1-adad-e05c1ed0bfcb\",\"type\":\"LinearScale\"}},\"id\":\"5b790996-8a17-49f8-a209-e28ace96247f\",\"subtype\":\"Figure\",\"type\":\"Plot\"},{\"attributes\":{},\"id\":\"a0b46cb9-6b7e-4632-98b1-d008e79d0f3c\",\"type\":\"BasicTicker\"},{\"attributes\":{\"bottom_units\":\"screen\",\"fill_alpha\":{\"value\":0.5},\"fill_color\":{\"value\":\"lightgrey\"},\"left_units\":\"screen\",\"level\":\"overlay\",\"line_alpha\":{\"value\":1.0},\"line_color\":{\"value\":\"black\"},\"line_dash\":[4,4],\"line_width\":{\"value\":2},\"plot\":null,\"render_mode\":\"css\",\"right_units\":\"screen\",\"top_units\":\"screen\"},\"id\":\"0feedf09-5e0c-4fc0-869a-dc12498c7aca\",\"type\":\"BoxAnnotation\"},{\"attributes\":{},\"id\":\"70c85e43-9c5b-4092-adfc-58916edaf696\",\"type\":\"UnionRenderers\"},{\"attributes\":{},\"id\":\"a4cb9034-40fc-4988-921f-01e67378363b\",\"type\":\"WheelZoomTool\"},{\"attributes\":{},\"id\":\"935544c0-c712-472f-acf6-5e4bb050b3cb\",\"type\":\"PanTool\"},{\"attributes\":{\"overlay\":{\"id\":\"0feedf09-5e0c-4fc0-869a-dc12498c7aca\",\"type\":\"BoxAnnotation\"}},\"id\":\"19b8c142-1d43-4147-9bd2-e90f2e152b08\",\"type\":\"BoxZoomTool\"},{\"attributes\":{},\"id\":\"77071d57-47d0-4c40-833a-5ce88b605398\",\"type\":\"CategoricalScale\"},{\"attributes\":{\"formatter\":{\"id\":\"e749b68f-027d-4571-88a9-8a50a632514d\",\"type\":\"BasicTickFormatter\"},\"plot\":{\"id\":\"5b790996-8a17-49f8-a209-e28ace96247f\",\"subtype\":\"Figure\",\"type\":\"Plot\"},\"ticker\":{\"id\":\"a0b46cb9-6b7e-4632-98b1-d008e79d0f3c\",\"type\":\"BasicTicker\"}},\"id\":\"277222a1-e263-439e-968f-7038a343cd82\",\"type\":\"LinearAxis\"},{\"attributes\":{},\"id\":\"e749b68f-027d-4571-88a9-8a50a632514d\",\"type\":\"BasicTickFormatter\"},{\"attributes\":{},\"id\":\"13b2513b-4f69-44ae-8566-924f5519eb7d\",\"type\":\"SaveTool\"},{\"attributes\":{\"formatter\":{\"id\":\"4cf7f938-5cc6-45bf-aadc-75acdfa90a7d\",\"type\":\"CategoricalTickFormatter\"},\"plot\":{\"id\":\"5b790996-8a17-49f8-a209-e28ace96247f\",\"subtype\":\"Figure\",\"type\":\"Plot\"},\"ticker\":{\"id\":\"512e6467-5ce4-4cad-a0a0-cf7c46e42f52\",\"type\":\"CategoricalTicker\"}},\"id\":\"b7e979a3-b516-476c-9d45-591f7fc977b4\",\"type\":\"CategoricalAxis\"},{\"attributes\":{},\"id\":\"2111a077-9a0f-45f1-adad-e05c1ed0bfcb\",\"type\":\"LinearScale\"},{\"attributes\":{\"grid_line_color\":{\"value\":null},\"plot\":{\"id\":\"5b790996-8a17-49f8-a209-e28ace96247f\",\"subtype\":\"Figure\",\"type\":\"Plot\"},\"ticker\":{\"id\":\"512e6467-5ce4-4cad-a0a0-cf7c46e42f52\",\"type\":\"CategoricalTicker\"}},\"id\":\"3e1e10b5-6274-4fd5-a6b0-2c23d1b9a461\",\"type\":\"Grid\"},{\"attributes\":{},\"id\":\"44643ba4-2df7-40d6-bec3-f70e8eb14490\",\"type\":\"Selection\"},{\"attributes\":{\"callback\":null,\"start\":0},\"id\":\"41c42b0d-b418-430d-bc21-6fa5fc63705a\",\"type\":\"DataRange1d\"},{\"attributes\":{\"fill_alpha\":{\"value\":0.1},\"fill_color\":{\"value\":\"#1f77b4\"},\"line_alpha\":{\"value\":0.1},\"line_color\":{\"value\":\"#1f77b4\"},\"top\":{\"field\":\"top\"},\"width\":{\"value\":0.7},\"x\":{\"field\":\"x\"}},\"id\":\"9d6aee7c-ae4f-49d1-9dd0-969dab13cfa2\",\"type\":\"VBar\"},{\"attributes\":{},\"id\":\"512e6467-5ce4-4cad-a0a0-cf7c46e42f52\",\"type\":\"CategoricalTicker\"},{\"attributes\":{\"plot\":null,\"text\":\"Ways of Selecting Senators by Number\"},\"id\":\"ab1de4dd-89aa-4b3d-8cb5-9edcdc195f6b\",\"type\":\"Title\"},{\"attributes\":{},\"id\":\"5f396d11-dbeb-49ba-a8d5-e85a934f08da\",\"type\":\"ResetTool\"},{\"attributes\":{\"callback\":null,\"data\":{\"top\":[496,11,0,13],\"x\":[\"general election\",\"special election\",\"state legislature\",\"appointed\"]},\"selected\":{\"id\":\"44643ba4-2df7-40d6-bec3-f70e8eb14490\",\"type\":\"Selection\"},\"selection_policy\":{\"id\":\"70c85e43-9c5b-4092-adfc-58916edaf696\",\"type\":\"UnionRenderers\"}},\"id\":\"7650231e-6815-4a1c-b45d-4f68c39bc143\",\"type\":\"ColumnDataSource\"},{\"attributes\":{\"data_source\":{\"id\":\"7650231e-6815-4a1c-b45d-4f68c39bc143\",\"type\":\"ColumnDataSource\"},\"glyph\":{\"id\":\"2461e2e3-da0e-49ba-8c45-a8d388eb6363\",\"type\":\"VBar\"},\"hover_glyph\":null,\"muted_glyph\":null,\"nonselection_glyph\":{\"id\":\"9d6aee7c-ae4f-49d1-9dd0-969dab13cfa2\",\"type\":\"VBar\"},\"selection_glyph\":null,\"view\":{\"id\":\"d5a05038-c876-4424-a713-f7efae410699\",\"type\":\"CDSView\"}},\"id\":\"da0f9ed8-25eb-46c3-8ce1-4cff5eafc759\",\"type\":\"GlyphRenderer\"}],\"root_ids\":[\"5b790996-8a17-49f8-a209-e28ace96247f\"]},\"title\":\"Bokeh Application\",\"version\":\"0.13.0\"}};\n",
       "  var render_items = [{\"docid\":\"795e8b2a-7a6c-4910-a41e-b30bbd66b810\",\"roots\":{\"5b790996-8a17-49f8-a209-e28ace96247f\":\"cf730f0c-7058-4ec4-a699-459aba6cc01d\"}}];\n",
       "  root.Bokeh.embed.embed_items_notebook(docs_json, render_items);\n",
       "\n",
       "  }\n",
       "  if (root.Bokeh !== undefined) {\n",
       "    embed_document(root);\n",
       "  } else {\n",
       "    var attempts = 0;\n",
       "    var timer = setInterval(function(root) {\n",
       "      if (root.Bokeh !== undefined) {\n",
       "        embed_document(root);\n",
       "        clearInterval(timer);\n",
       "      }\n",
       "      attempts++;\n",
       "      if (attempts > 100) {\n",
       "        console.log(\"Bokeh: ERROR: Unable to run BokehJS code because BokehJS library is missing\")\n",
       "        clearInterval(timer);\n",
       "      }\n",
       "    }, 10, root)\n",
       "  }\n",
       "})(window);"
      ],
      "application/vnd.bokehjs_exec.v0+json": ""
     },
     "metadata": {
      "application/vnd.bokehjs_exec.v0+json": {
       "id": "5b790996-8a17-49f8-a209-e28ace96247f"
      }
     },
     "output_type": "display_data"
    }
   ],
   "source": [
    "counta = ['general election','special election','state legislature','appointed']\n",
    "p1 = figure(x_range = counta, plot_height = 250, title = 'Ways of Selecting Senators by Number')\n",
    "p1.vbar(x=counta,top = [count1,count2,count3,count5],width = 0.7)\n",
    "p1.xgrid.grid_line_color = None\n",
    "p1.y_range.start = 0\n",
    "show(p1)"
   ]
  },
  {
   "cell_type": "code",
   "execution_count": 75,
   "metadata": {},
   "outputs": [
    {
     "data": {
      "text/html": [
       "\n",
       "\n",
       "\n",
       "\n",
       "\n",
       "\n",
       "  <div class=\"bk-root\" id=\"490b94fa-2c1e-479f-a012-bcf03d61b251\"></div>\n"
      ]
     },
     "metadata": {},
     "output_type": "display_data"
    },
    {
     "data": {
      "application/javascript": [
       "(function(root) {\n",
       "  function embed_document(root) {\n",
       "    \n",
       "  var docs_json = {\"acc21ed5-90ae-4d85-8d56-9e2a5e31412e\":{\"roots\":{\"references\":[{\"attributes\":{},\"id\":\"dfe4e42d-ad16-43f9-bf03-9789897cf204\",\"type\":\"UnionRenderers\"},{\"attributes\":{},\"id\":\"cf85035b-053d-418c-8513-9ad7b2d984a6\",\"type\":\"BasicTicker\"},{\"attributes\":{},\"id\":\"88f80ef6-b09a-45a3-93d3-e421c4acf11a\",\"type\":\"PanTool\"},{\"attributes\":{},\"id\":\"f5c4c5dd-c3bc-4400-8266-018f4214ce02\",\"type\":\"CategoricalScale\"},{\"attributes\":{},\"id\":\"622461a5-93fd-4463-b01f-8da0739c7800\",\"type\":\"LinearScale\"},{\"attributes\":{\"formatter\":{\"id\":\"84bf0677-f857-458e-954d-4502dd80c821\",\"type\":\"CategoricalTickFormatter\"},\"plot\":{\"id\":\"68c27509-3f0c-4791-88ed-a476ad585aa5\",\"subtype\":\"Figure\",\"type\":\"Plot\"},\"ticker\":{\"id\":\"33f5ac1a-39ca-40a0-81d0-bcd55d290909\",\"type\":\"CategoricalTicker\"}},\"id\":\"d09fe33b-62f3-4230-891b-62f3f5cf7cbb\",\"type\":\"CategoricalAxis\"},{\"attributes\":{},\"id\":\"8489d02b-1e49-4f9a-bad0-a987311d42f0\",\"type\":\"WheelZoomTool\"},{\"attributes\":{\"overlay\":{\"id\":\"57c41473-4ecd-4456-a0de-a10818f7087e\",\"type\":\"BoxAnnotation\"}},\"id\":\"1996122a-c83a-4035-91d5-4b111bd38786\",\"type\":\"BoxZoomTool\"},{\"attributes\":{},\"id\":\"ae24c1c9-39ce-4005-bf2a-d6199bc58658\",\"type\":\"SaveTool\"},{\"attributes\":{\"grid_line_color\":{\"value\":null},\"plot\":{\"id\":\"68c27509-3f0c-4791-88ed-a476ad585aa5\",\"subtype\":\"Figure\",\"type\":\"Plot\"},\"ticker\":{\"id\":\"33f5ac1a-39ca-40a0-81d0-bcd55d290909\",\"type\":\"CategoricalTicker\"}},\"id\":\"60190a42-3842-40e6-aba4-be2d8ead76be\",\"type\":\"Grid\"},{\"attributes\":{},\"id\":\"b9a0302e-0651-4aab-a59e-d9b74bee1e74\",\"type\":\"ResetTool\"},{\"attributes\":{},\"id\":\"be649fbe-069a-4c4e-8458-83b95ecfc263\",\"type\":\"Selection\"},{\"attributes\":{},\"id\":\"601f2e29-70c1-4bb3-9e91-40c80f63b452\",\"type\":\"HelpTool\"},{\"attributes\":{},\"id\":\"33f5ac1a-39ca-40a0-81d0-bcd55d290909\",\"type\":\"CategoricalTicker\"},{\"attributes\":{\"bottom_units\":\"screen\",\"fill_alpha\":{\"value\":0.5},\"fill_color\":{\"value\":\"lightgrey\"},\"left_units\":\"screen\",\"level\":\"overlay\",\"line_alpha\":{\"value\":1.0},\"line_color\":{\"value\":\"black\"},\"line_dash\":[4,4],\"line_width\":{\"value\":2},\"plot\":null,\"render_mode\":\"css\",\"right_units\":\"screen\",\"top_units\":\"screen\"},\"id\":\"57c41473-4ecd-4456-a0de-a10818f7087e\",\"type\":\"BoxAnnotation\"},{\"attributes\":{},\"id\":\"84bf0677-f857-458e-954d-4502dd80c821\",\"type\":\"CategoricalTickFormatter\"},{\"attributes\":{\"active_drag\":\"auto\",\"active_inspect\":\"auto\",\"active_multi\":null,\"active_scroll\":\"auto\",\"active_tap\":\"auto\",\"tools\":[{\"id\":\"88f80ef6-b09a-45a3-93d3-e421c4acf11a\",\"type\":\"PanTool\"},{\"id\":\"8489d02b-1e49-4f9a-bad0-a987311d42f0\",\"type\":\"WheelZoomTool\"},{\"id\":\"1996122a-c83a-4035-91d5-4b111bd38786\",\"type\":\"BoxZoomTool\"},{\"id\":\"ae24c1c9-39ce-4005-bf2a-d6199bc58658\",\"type\":\"SaveTool\"},{\"id\":\"b9a0302e-0651-4aab-a59e-d9b74bee1e74\",\"type\":\"ResetTool\"},{\"id\":\"601f2e29-70c1-4bb3-9e91-40c80f63b452\",\"type\":\"HelpTool\"}]},\"id\":\"5f3c3120-fe2f-4497-9936-bdefb58f54a6\",\"type\":\"Toolbar\"},{\"attributes\":{\"data_source\":{\"id\":\"eaa70a4a-ee57-44b4-9fc5-c9358d9123b0\",\"type\":\"ColumnDataSource\"},\"glyph\":{\"id\":\"257f8f89-5eeb-4878-9a8c-166849f2e9b4\",\"type\":\"VBar\"},\"hover_glyph\":null,\"muted_glyph\":null,\"nonselection_glyph\":{\"id\":\"423a6428-0f36-479c-a2c1-e56156c136c4\",\"type\":\"VBar\"},\"selection_glyph\":null,\"view\":{\"id\":\"d02f8d5a-a4b0-4946-8647-aaa4d7a1a575\",\"type\":\"CDSView\"}},\"id\":\"a8bf7278-cb57-4a5c-88f4-74d7b2882221\",\"type\":\"GlyphRenderer\"},{\"attributes\":{\"callback\":null,\"factors\":[\"general election\",\"special election\",\"state legislature\",\"appointed\"]},\"id\":\"eedccc2d-275a-4da6-82d6-6d35ae306758\",\"type\":\"FactorRange\"},{\"attributes\":{\"source\":{\"id\":\"eaa70a4a-ee57-44b4-9fc5-c9358d9123b0\",\"type\":\"ColumnDataSource\"}},\"id\":\"d02f8d5a-a4b0-4946-8647-aaa4d7a1a575\",\"type\":\"CDSView\"},{\"attributes\":{\"below\":[{\"id\":\"d09fe33b-62f3-4230-891b-62f3f5cf7cbb\",\"type\":\"CategoricalAxis\"}],\"left\":[{\"id\":\"a7224a3e-2ff3-4996-b9dc-bdb3ff8c55c6\",\"type\":\"LinearAxis\"}],\"plot_height\":250,\"renderers\":[{\"id\":\"d09fe33b-62f3-4230-891b-62f3f5cf7cbb\",\"type\":\"CategoricalAxis\"},{\"id\":\"60190a42-3842-40e6-aba4-be2d8ead76be\",\"type\":\"Grid\"},{\"id\":\"a7224a3e-2ff3-4996-b9dc-bdb3ff8c55c6\",\"type\":\"LinearAxis\"},{\"id\":\"e4c53f91-61ba-431b-b35a-a1791421a3de\",\"type\":\"Grid\"},{\"id\":\"57c41473-4ecd-4456-a0de-a10818f7087e\",\"type\":\"BoxAnnotation\"},{\"id\":\"a8bf7278-cb57-4a5c-88f4-74d7b2882221\",\"type\":\"GlyphRenderer\"}],\"title\":{\"id\":\"8b6a2bfd-34a6-4910-80f5-9f0950c802a3\",\"type\":\"Title\"},\"toolbar\":{\"id\":\"5f3c3120-fe2f-4497-9936-bdefb58f54a6\",\"type\":\"Toolbar\"},\"x_range\":{\"id\":\"eedccc2d-275a-4da6-82d6-6d35ae306758\",\"type\":\"FactorRange\"},\"x_scale\":{\"id\":\"f5c4c5dd-c3bc-4400-8266-018f4214ce02\",\"type\":\"CategoricalScale\"},\"y_range\":{\"id\":\"b4c20b63-9b37-4ae7-98ed-72449163a26c\",\"type\":\"DataRange1d\"},\"y_scale\":{\"id\":\"622461a5-93fd-4463-b01f-8da0739c7800\",\"type\":\"LinearScale\"}},\"id\":\"68c27509-3f0c-4791-88ed-a476ad585aa5\",\"subtype\":\"Figure\",\"type\":\"Plot\"},{\"attributes\":{\"plot\":null,\"text\":\"Ways of Selecting Senators by Percentage\"},\"id\":\"8b6a2bfd-34a6-4910-80f5-9f0950c802a3\",\"type\":\"Title\"},{\"attributes\":{\"callback\":null,\"data\":{\"top\":[0.9538461538461539,0.021153846153846155,0.0,0.025],\"x\":[\"general election\",\"special election\",\"state legislature\",\"appointed\"]},\"selected\":{\"id\":\"be649fbe-069a-4c4e-8458-83b95ecfc263\",\"type\":\"Selection\"},\"selection_policy\":{\"id\":\"dfe4e42d-ad16-43f9-bf03-9789897cf204\",\"type\":\"UnionRenderers\"}},\"id\":\"eaa70a4a-ee57-44b4-9fc5-c9358d9123b0\",\"type\":\"ColumnDataSource\"},{\"attributes\":{\"formatter\":{\"id\":\"88a766bf-86d9-4f7b-932b-6d6f9a65d8f2\",\"type\":\"BasicTickFormatter\"},\"plot\":{\"id\":\"68c27509-3f0c-4791-88ed-a476ad585aa5\",\"subtype\":\"Figure\",\"type\":\"Plot\"},\"ticker\":{\"id\":\"cf85035b-053d-418c-8513-9ad7b2d984a6\",\"type\":\"BasicTicker\"}},\"id\":\"a7224a3e-2ff3-4996-b9dc-bdb3ff8c55c6\",\"type\":\"LinearAxis\"},{\"attributes\":{\"fill_color\":{\"value\":\"#1f77b4\"},\"line_color\":{\"value\":\"#1f77b4\"},\"top\":{\"field\":\"top\"},\"width\":{\"value\":0.7},\"x\":{\"field\":\"x\"}},\"id\":\"257f8f89-5eeb-4878-9a8c-166849f2e9b4\",\"type\":\"VBar\"},{\"attributes\":{\"callback\":null,\"start\":0},\"id\":\"b4c20b63-9b37-4ae7-98ed-72449163a26c\",\"type\":\"DataRange1d\"},{\"attributes\":{},\"id\":\"88a766bf-86d9-4f7b-932b-6d6f9a65d8f2\",\"type\":\"BasicTickFormatter\"},{\"attributes\":{\"fill_alpha\":{\"value\":0.1},\"fill_color\":{\"value\":\"#1f77b4\"},\"line_alpha\":{\"value\":0.1},\"line_color\":{\"value\":\"#1f77b4\"},\"top\":{\"field\":\"top\"},\"width\":{\"value\":0.7},\"x\":{\"field\":\"x\"}},\"id\":\"423a6428-0f36-479c-a2c1-e56156c136c4\",\"type\":\"VBar\"},{\"attributes\":{\"dimension\":1,\"plot\":{\"id\":\"68c27509-3f0c-4791-88ed-a476ad585aa5\",\"subtype\":\"Figure\",\"type\":\"Plot\"},\"ticker\":{\"id\":\"cf85035b-053d-418c-8513-9ad7b2d984a6\",\"type\":\"BasicTicker\"}},\"id\":\"e4c53f91-61ba-431b-b35a-a1791421a3de\",\"type\":\"Grid\"}],\"root_ids\":[\"68c27509-3f0c-4791-88ed-a476ad585aa5\"]},\"title\":\"Bokeh Application\",\"version\":\"0.13.0\"}};\n",
       "  var render_items = [{\"docid\":\"acc21ed5-90ae-4d85-8d56-9e2a5e31412e\",\"roots\":{\"68c27509-3f0c-4791-88ed-a476ad585aa5\":\"490b94fa-2c1e-479f-a012-bcf03d61b251\"}}];\n",
       "  root.Bokeh.embed.embed_items_notebook(docs_json, render_items);\n",
       "\n",
       "  }\n",
       "  if (root.Bokeh !== undefined) {\n",
       "    embed_document(root);\n",
       "  } else {\n",
       "    var attempts = 0;\n",
       "    var timer = setInterval(function(root) {\n",
       "      if (root.Bokeh !== undefined) {\n",
       "        embed_document(root);\n",
       "        clearInterval(timer);\n",
       "      }\n",
       "      attempts++;\n",
       "      if (attempts > 100) {\n",
       "        console.log(\"Bokeh: ERROR: Unable to run BokehJS code because BokehJS library is missing\")\n",
       "        clearInterval(timer);\n",
       "      }\n",
       "    }, 10, root)\n",
       "  }\n",
       "})(window);"
      ],
      "application/vnd.bokehjs_exec.v0+json": ""
     },
     "metadata": {
      "application/vnd.bokehjs_exec.v0+json": {
       "id": "68c27509-3f0c-4791-88ed-a476ad585aa5"
      }
     },
     "output_type": "display_data"
    }
   ],
   "source": [
    "p2 = figure(x_range = counta, plot_height = 250, title = 'Ways of Selecting Senators by Percentage')\n",
    "p2.vbar(x=counta,top = [count1/countall,count2/countall,count3/countall,count5/countall],width = 0.7)\n",
    "p2.xgrid.grid_line_color = None\n",
    "p2.y_range.start = 0\n",
    "show(p2)"
   ]
  },
  {
   "cell_type": "markdown",
   "metadata": {},
   "source": [
    "From the graphs above, we can see that almost 95% cancidates were selected by general election. Thus, there are very few people who had 'special treatment'."
   ]
  },
  {
   "cell_type": "markdown",
   "metadata": {},
   "source": [
    "### 2. What percentage were each party members during 2007 to 2017?\n",
    "The answer to this question will allow us to know the change of constitution of House of Senate. To see if there was a period when one party was dominat the 'upper' house.\n",
    "To answer this question, I choose variable 'congress' and 'party_code'."
   ]
  },
  {
   "cell_type": "code",
   "execution_count": 76,
   "metadata": {},
   "outputs": [],
   "source": [
    "data['party_code'] = data['party_code'].astype(int)\n",
    "data['congress'] = data['congress'].astype(int)\n",
    "countd0 = 0\n",
    "countr0 = 0\n",
    "counto0 = 0\n",
    "count0 = 0\n",
    "for index,row in data.iterrows():\n",
    "    count0 = count0+1\n",
    "    if row['congress']==110:\n",
    "        if row['party_code'] == 100:\n",
    "            countd0 = countd0+1\n",
    "        elif row['party_code'] == 200:\n",
    "            countr0 = countr0+1\n",
    "        else:\n",
    "            counto0 = counto0+1\n",
    "\n",
    "countd1 = 0\n",
    "countr1 = 0\n",
    "counto1 = 0\n",
    "count1 = 0\n",
    "for index,row in data.iterrows():\n",
    "    count1 = count1+1\n",
    "    if row['congress']==111:\n",
    "        if row['party_code'] == 100:\n",
    "            countd1 = countd1+1\n",
    "        elif row['party_code'] == 200:\n",
    "            countr1 = countr1+1\n",
    "        else:\n",
    "            counto1 = counto1+1\n",
    "\n",
    "countd2 = 0\n",
    "countr2 = 0\n",
    "counto2 = 0\n",
    "count2 = 0\n",
    "for index,row in data.iterrows():\n",
    "    count2 = count2+1\n",
    "    if row['congress']==112:\n",
    "        if row['party_code'] == 100:\n",
    "            countd2 = countd2+1\n",
    "        elif row['party_code'] == 200:\n",
    "            countr2 = countr2+1\n",
    "        else:\n",
    "            counto2 = counto2+1\n",
    "            \n",
    "countd3 = 0\n",
    "countr3 = 0\n",
    "counto3 = 0\n",
    "count3 = 0\n",
    "for index,row in data.iterrows():\n",
    "    count3 = count3+1\n",
    "    if row['congress']==113:\n",
    "        if row['party_code'] == 100:\n",
    "            countd3 = countd3+1\n",
    "        elif row['party_code'] == 200:\n",
    "            countr3 = countr3+1\n",
    "        else:\n",
    "            counto3 = counto3+1\n",
    "            \n",
    "countd4 = 0\n",
    "countr4 = 0\n",
    "counto4 = 0\n",
    "count4 = 0\n",
    "for index,row in data.iterrows():\n",
    "    count4 = count4+1\n",
    "    if row['congress']==114:\n",
    "        if row['party_code'] == 100:\n",
    "            countd4 = countd4+1\n",
    "        elif row['party_code'] == 200:\n",
    "            countr4 = countr4+1\n",
    "        else:\n",
    "            counto4 = counto4+1\n",
    "            \n",
    "countal = count0+count1+count2+count3+count4"
   ]
  },
  {
   "cell_type": "code",
   "execution_count": 87,
   "metadata": {},
   "outputs": [
    {
     "data": {
      "text/html": [
       "\n",
       "\n",
       "\n",
       "\n",
       "\n",
       "\n",
       "  <div class=\"bk-root\" id=\"7a5956c6-f5ea-4238-bc0b-f2777fa4d0cb\"></div>\n"
      ]
     },
     "metadata": {},
     "output_type": "display_data"
    },
    {
     "data": {
      "application/javascript": [
       "(function(root) {\n",
       "  function embed_document(root) {\n",
       "    \n",
       "  var docs_json = {\"d1dd3b8c-2191-495f-a057-61ee49a98034\":{\"roots\":{\"references\":[{\"attributes\":{},\"id\":\"143912d8-6145-4322-8b31-957805e210c7\",\"type\":\"UnionRenderers\"},{\"attributes\":{\"line_alpha\":0.1,\"line_color\":\"#1f77b4\",\"line_width\":2,\"x\":{\"field\":\"x\"},\"y\":{\"field\":\"y\"}},\"id\":\"83788808-8bc8-4445-9e82-35116c1b0269\",\"type\":\"Line\"},{\"attributes\":{},\"id\":\"a2faf75a-6c6d-4df1-b1c9-ac1e2f57ba49\",\"type\":\"WheelZoomTool\"},{\"attributes\":{},\"id\":\"a91c4f69-f8d1-4e07-96b0-80d8ded8bc0c\",\"type\":\"LinearScale\"},{\"attributes\":{\"active_drag\":\"auto\",\"active_inspect\":\"auto\",\"active_multi\":null,\"active_scroll\":\"auto\",\"active_tap\":\"auto\",\"tools\":[{\"id\":\"c8b1480f-16d3-4364-ab53-5d6538e6147a\",\"type\":\"PanTool\"},{\"id\":\"a2faf75a-6c6d-4df1-b1c9-ac1e2f57ba49\",\"type\":\"WheelZoomTool\"},{\"id\":\"f0cb2c07-efab-4941-b84d-780896209f0d\",\"type\":\"BoxZoomTool\"},{\"id\":\"922ae7c7-626a-4bd0-836e-f26efe6c70fe\",\"type\":\"SaveTool\"},{\"id\":\"ec43e17e-f91e-4918-9cb5-034f6993111e\",\"type\":\"ResetTool\"},{\"id\":\"b44525bc-3405-448c-a8dd-028883ed5d2a\",\"type\":\"HelpTool\"}]},\"id\":\"6bbf9fae-5093-4385-bbc1-b27ed4c6724b\",\"type\":\"Toolbar\"},{\"attributes\":{},\"id\":\"123a0981-8a28-450f-9e6f-d10e48da19ef\",\"type\":\"Selection\"},{\"attributes\":{\"label\":{\"value\":\"Republican\"},\"renderers\":[{\"id\":\"592784f6-11fd-4d9c-8585-afedb0279e2f\",\"type\":\"GlyphRenderer\"}]},\"id\":\"8f5e0b5e-ca60-4ce4-8e4e-427db85424f0\",\"type\":\"LegendItem\"},{\"attributes\":{},\"id\":\"ac22b136-03de-49a8-8c54-0c72837af62f\",\"type\":\"BasicTicker\"},{\"attributes\":{\"source\":{\"id\":\"8d04f2cd-9c71-4c5f-9366-78d6cb4adab2\",\"type\":\"ColumnDataSource\"}},\"id\":\"592f9a1c-dd98-47e7-8266-64eafac7d944\",\"type\":\"CDSView\"},{\"attributes\":{\"axis_label\":\"Year\",\"formatter\":{\"id\":\"a4cabfd0-8ce9-4ef9-b9b8-57872d88f949\",\"type\":\"BasicTickFormatter\"},\"plot\":{\"id\":\"546c82bd-0702-40a5-8b7f-076c3701b061\",\"subtype\":\"Figure\",\"type\":\"Plot\"},\"ticker\":{\"id\":\"ac22b136-03de-49a8-8c54-0c72837af62f\",\"type\":\"BasicTicker\"}},\"id\":\"e23e76e7-3dd2-4844-99b1-a24a230870f9\",\"type\":\"LinearAxis\"},{\"attributes\":{\"callback\":null,\"data\":{\"x\":[0.019230769230769232,0.025384615384615384,0.020384615384615383,0.021923076923076924,0.2],\"y\":[\"07-09\",\"09-11\",\"11-13\",\"13-15\",\"15-17\"]},\"selected\":{\"id\":\"da4f57b0-ada0-40a3-a0cc-455aee5cc14e\",\"type\":\"Selection\"},\"selection_policy\":{\"id\":\"143912d8-6145-4322-8b31-957805e210c7\",\"type\":\"UnionRenderers\"}},\"id\":\"5eeed3be-c4a5-4611-8f7b-0f2c6bd1c525\",\"type\":\"ColumnDataSource\"},{\"attributes\":{\"items\":[{\"id\":\"7f76b967-67c9-4e94-84d2-3ab5b52bd29d\",\"type\":\"LegendItem\"},{\"id\":\"8f5e0b5e-ca60-4ce4-8e4e-427db85424f0\",\"type\":\"LegendItem\"},{\"id\":\"4ed5481f-ef24-4acc-9ca8-e2bf7f8c3f4d\",\"type\":\"LegendItem\"}],\"plot\":{\"id\":\"546c82bd-0702-40a5-8b7f-076c3701b061\",\"subtype\":\"Figure\",\"type\":\"Plot\"}},\"id\":\"ea97a688-01cd-44a3-b2a6-d37947ef895b\",\"type\":\"Legend\"},{\"attributes\":{\"below\":[{\"id\":\"e23e76e7-3dd2-4844-99b1-a24a230870f9\",\"type\":\"LinearAxis\"}],\"left\":[{\"id\":\"7d3e3a84-911d-45a9-9da0-af651cad4dd3\",\"type\":\"LinearAxis\"}],\"plot_height\":450,\"plot_width\":400,\"renderers\":[{\"id\":\"e23e76e7-3dd2-4844-99b1-a24a230870f9\",\"type\":\"LinearAxis\"},{\"id\":\"980c035d-d058-4e73-97f1-8337b5c6a526\",\"type\":\"Grid\"},{\"id\":\"7d3e3a84-911d-45a9-9da0-af651cad4dd3\",\"type\":\"LinearAxis\"},{\"id\":\"e58a084c-f993-4c76-abd7-53223f17cae6\",\"type\":\"Grid\"},{\"id\":\"3fa8dfbc-2d03-4616-8ade-cbbe7ba2c6e0\",\"type\":\"BoxAnnotation\"},{\"id\":\"ea97a688-01cd-44a3-b2a6-d37947ef895b\",\"type\":\"Legend\"},{\"id\":\"2172ca45-2995-44c7-966c-2c452838a0ad\",\"type\":\"GlyphRenderer\"},{\"id\":\"592784f6-11fd-4d9c-8585-afedb0279e2f\",\"type\":\"GlyphRenderer\"},{\"id\":\"eed3e737-1775-41f2-8f74-1259d779bb51\",\"type\":\"GlyphRenderer\"}],\"title\":{\"id\":\"7bbec89a-7745-4ee6-b0eb-ca3fb92644bd\",\"type\":\"Title\"},\"toolbar\":{\"id\":\"6bbf9fae-5093-4385-bbc1-b27ed4c6724b\",\"type\":\"Toolbar\"},\"x_range\":{\"id\":\"690c538f-6ff6-4fac-a2db-5c0926186b50\",\"type\":\"DataRange1d\"},\"x_scale\":{\"id\":\"ef794f08-af04-4143-aae3-a22be85f65f1\",\"type\":\"LinearScale\"},\"y_range\":{\"id\":\"6aaf8662-d94d-4542-853f-e5623dc77ad7\",\"type\":\"DataRange1d\"},\"y_scale\":{\"id\":\"a91c4f69-f8d1-4e07-96b0-80d8ded8bc0c\",\"type\":\"LinearScale\"}},\"id\":\"546c82bd-0702-40a5-8b7f-076c3701b061\",\"subtype\":\"Figure\",\"type\":\"Plot\"},{\"attributes\":{\"callback\":null,\"data\":{\"x\":[0.019615384615384614,0.016923076923076923,0.018461538461538463,0.01769230769230769,0.02076923076923077],\"y\":[\"07-09\",\"09-11\",\"11-13\",\"13-15\",\"15-17\"]},\"selected\":{\"id\":\"123a0981-8a28-450f-9e6f-d10e48da19ef\",\"type\":\"Selection\"},\"selection_policy\":{\"id\":\"abc48d86-9689-4978-892f-6d30d640cd00\",\"type\":\"UnionRenderers\"}},\"id\":\"34410d92-5aac-46db-9404-e5130cae16e9\",\"type\":\"ColumnDataSource\"},{\"attributes\":{\"overlay\":{\"id\":\"3fa8dfbc-2d03-4616-8ade-cbbe7ba2c6e0\",\"type\":\"BoxAnnotation\"}},\"id\":\"f0cb2c07-efab-4941-b84d-780896209f0d\",\"type\":\"BoxZoomTool\"},{\"attributes\":{\"callback\":null},\"id\":\"690c538f-6ff6-4fac-a2db-5c0926186b50\",\"type\":\"DataRange1d\"},{\"attributes\":{\"plot\":null,\"text\":\"Percentage of Senate Party From 2007-2017\"},\"id\":\"7bbec89a-7745-4ee6-b0eb-ca3fb92644bd\",\"type\":\"Title\"},{\"attributes\":{\"line_color\":\"indigo\",\"line_width\":2,\"x\":{\"field\":\"x\"},\"y\":{\"field\":\"y\"}},\"id\":\"a29a62ef-a712-457c-a7fd-27a9d6c13be4\",\"type\":\"Line\"},{\"attributes\":{\"source\":{\"id\":\"34410d92-5aac-46db-9404-e5130cae16e9\",\"type\":\"ColumnDataSource\"}},\"id\":\"2b5653d1-08cf-4898-b391-fa5f71d25148\",\"type\":\"CDSView\"},{\"attributes\":{\"line_alpha\":0.1,\"line_color\":\"#1f77b4\",\"line_width\":2,\"x\":{\"field\":\"x\"},\"y\":{\"field\":\"y\"}},\"id\":\"a76519c7-300b-4fb4-9e91-3fec9450749f\",\"type\":\"Line\"},{\"attributes\":{},\"id\":\"c8b1480f-16d3-4364-ab53-5d6538e6147a\",\"type\":\"PanTool\"},{\"attributes\":{\"line_color\":\"gold\",\"line_width\":2,\"x\":{\"field\":\"x\"},\"y\":{\"field\":\"y\"}},\"id\":\"f16fa203-bed9-47ea-8132-e62a284bde22\",\"type\":\"Line\"},{\"attributes\":{\"data_source\":{\"id\":\"34410d92-5aac-46db-9404-e5130cae16e9\",\"type\":\"ColumnDataSource\"},\"glyph\":{\"id\":\"a29a62ef-a712-457c-a7fd-27a9d6c13be4\",\"type\":\"Line\"},\"hover_glyph\":null,\"muted_glyph\":null,\"nonselection_glyph\":{\"id\":\"83788808-8bc8-4445-9e82-35116c1b0269\",\"type\":\"Line\"},\"selection_glyph\":null,\"view\":{\"id\":\"2b5653d1-08cf-4898-b391-fa5f71d25148\",\"type\":\"CDSView\"}},\"id\":\"592784f6-11fd-4d9c-8585-afedb0279e2f\",\"type\":\"GlyphRenderer\"},{\"attributes\":{\"label\":{\"value\":\"Other Party\"},\"renderers\":[{\"id\":\"eed3e737-1775-41f2-8f74-1259d779bb51\",\"type\":\"GlyphRenderer\"}]},\"id\":\"4ed5481f-ef24-4acc-9ca8-e2bf7f8c3f4d\",\"type\":\"LegendItem\"},{\"attributes\":{},\"id\":\"e967cedf-0d11-4b25-9834-b7ce2c8e5daa\",\"type\":\"UnionRenderers\"},{\"attributes\":{},\"id\":\"abc48d86-9689-4978-892f-6d30d640cd00\",\"type\":\"UnionRenderers\"},{\"attributes\":{\"plot\":{\"id\":\"546c82bd-0702-40a5-8b7f-076c3701b061\",\"subtype\":\"Figure\",\"type\":\"Plot\"},\"ticker\":{\"id\":\"ac22b136-03de-49a8-8c54-0c72837af62f\",\"type\":\"BasicTicker\"}},\"id\":\"980c035d-d058-4e73-97f1-8337b5c6a526\",\"type\":\"Grid\"},{\"attributes\":{},\"id\":\"b44525bc-3405-448c-a8dd-028883ed5d2a\",\"type\":\"HelpTool\"},{\"attributes\":{},\"id\":\"ec43e17e-f91e-4918-9cb5-034f6993111e\",\"type\":\"ResetTool\"},{\"attributes\":{\"dimension\":1,\"plot\":{\"id\":\"546c82bd-0702-40a5-8b7f-076c3701b061\",\"subtype\":\"Figure\",\"type\":\"Plot\"},\"ticker\":{\"id\":\"e2b7962f-c8e5-4b22-858c-05ec7f79e327\",\"type\":\"BasicTicker\"}},\"id\":\"e58a084c-f993-4c76-abd7-53223f17cae6\",\"type\":\"Grid\"},{\"attributes\":{\"callback\":null},\"id\":\"6aaf8662-d94d-4542-853f-e5623dc77ad7\",\"type\":\"DataRange1d\"},{\"attributes\":{},\"id\":\"6570a4b1-a820-48c1-bc9d-0c55b10110c0\",\"type\":\"BasicTickFormatter\"},{\"attributes\":{\"axis_label\":\"Percentage\",\"formatter\":{\"id\":\"6570a4b1-a820-48c1-bc9d-0c55b10110c0\",\"type\":\"BasicTickFormatter\"},\"plot\":{\"id\":\"546c82bd-0702-40a5-8b7f-076c3701b061\",\"subtype\":\"Figure\",\"type\":\"Plot\"},\"ticker\":{\"id\":\"e2b7962f-c8e5-4b22-858c-05ec7f79e327\",\"type\":\"BasicTicker\"}},\"id\":\"7d3e3a84-911d-45a9-9da0-af651cad4dd3\",\"type\":\"LinearAxis\"},{\"attributes\":{},\"id\":\"922ae7c7-626a-4bd0-836e-f26efe6c70fe\",\"type\":\"SaveTool\"},{\"attributes\":{},\"id\":\"ef794f08-af04-4143-aae3-a22be85f65f1\",\"type\":\"LinearScale\"},{\"attributes\":{\"data_source\":{\"id\":\"5eeed3be-c4a5-4611-8f7b-0f2c6bd1c525\",\"type\":\"ColumnDataSource\"},\"glyph\":{\"id\":\"0f4ed5da-b86d-4b8a-8bf3-cb7c288e84f9\",\"type\":\"Line\"},\"hover_glyph\":null,\"muted_glyph\":null,\"nonselection_glyph\":{\"id\":\"a76519c7-300b-4fb4-9e91-3fec9450749f\",\"type\":\"Line\"},\"selection_glyph\":null,\"view\":{\"id\":\"49c18894-c1db-488a-9dde-8b2af39b05b9\",\"type\":\"CDSView\"}},\"id\":\"2172ca45-2995-44c7-966c-2c452838a0ad\",\"type\":\"GlyphRenderer\"},{\"attributes\":{\"line_alpha\":0.1,\"line_color\":\"#1f77b4\",\"line_width\":2,\"x\":{\"field\":\"x\"},\"y\":{\"field\":\"y\"}},\"id\":\"c2d6d0f0-3ab1-4ac7-a10a-abd0e42af0f3\",\"type\":\"Line\"},{\"attributes\":{\"source\":{\"id\":\"5eeed3be-c4a5-4611-8f7b-0f2c6bd1c525\",\"type\":\"ColumnDataSource\"}},\"id\":\"49c18894-c1db-488a-9dde-8b2af39b05b9\",\"type\":\"CDSView\"},{\"attributes\":{},\"id\":\"da4f57b0-ada0-40a3-a0cc-455aee5cc14e\",\"type\":\"Selection\"},{\"attributes\":{\"data_source\":{\"id\":\"8d04f2cd-9c71-4c5f-9366-78d6cb4adab2\",\"type\":\"ColumnDataSource\"},\"glyph\":{\"id\":\"f16fa203-bed9-47ea-8132-e62a284bde22\",\"type\":\"Line\"},\"hover_glyph\":null,\"muted_glyph\":null,\"nonselection_glyph\":{\"id\":\"c2d6d0f0-3ab1-4ac7-a10a-abd0e42af0f3\",\"type\":\"Line\"},\"selection_glyph\":null,\"view\":{\"id\":\"592f9a1c-dd98-47e7-8266-64eafac7d944\",\"type\":\"CDSView\"}},\"id\":\"eed3e737-1775-41f2-8f74-1259d779bb51\",\"type\":\"GlyphRenderer\"},{\"attributes\":{},\"id\":\"a4cabfd0-8ce9-4ef9-b9b8-57872d88f949\",\"type\":\"BasicTickFormatter\"},{\"attributes\":{\"label\":{\"value\":\"Democratic\"},\"renderers\":[{\"id\":\"2172ca45-2995-44c7-966c-2c452838a0ad\",\"type\":\"GlyphRenderer\"}]},\"id\":\"7f76b967-67c9-4e94-84d2-3ab5b52bd29d\",\"type\":\"LegendItem\"},{\"attributes\":{\"bottom_units\":\"screen\",\"fill_alpha\":{\"value\":0.5},\"fill_color\":{\"value\":\"lightgrey\"},\"left_units\":\"screen\",\"level\":\"overlay\",\"line_alpha\":{\"value\":1.0},\"line_color\":{\"value\":\"black\"},\"line_dash\":[4,4],\"line_width\":{\"value\":2},\"plot\":null,\"render_mode\":\"css\",\"right_units\":\"screen\",\"top_units\":\"screen\"},\"id\":\"3fa8dfbc-2d03-4616-8ade-cbbe7ba2c6e0\",\"type\":\"BoxAnnotation\"},{\"attributes\":{\"line_color\":\"tomato\",\"line_width\":2,\"x\":{\"field\":\"x\"},\"y\":{\"field\":\"y\"}},\"id\":\"0f4ed5da-b86d-4b8a-8bf3-cb7c288e84f9\",\"type\":\"Line\"},{\"attributes\":{},\"id\":\"e2b7962f-c8e5-4b22-858c-05ec7f79e327\",\"type\":\"BasicTicker\"},{\"attributes\":{\"callback\":null,\"data\":{\"x\":[0.0003846153846153846,0.0003846153846153846,0.0003846153846153846,0.0007692307692307692,0.0007692307692307692],\"y\":[\"07-09\",\"09-11\",\"11-13\",\"13-15\",\"15-17\"]},\"selected\":{\"id\":\"74ae2b8f-abbf-42e5-a9e5-cf0436c5aaf7\",\"type\":\"Selection\"},\"selection_policy\":{\"id\":\"e967cedf-0d11-4b25-9834-b7ce2c8e5daa\",\"type\":\"UnionRenderers\"}},\"id\":\"8d04f2cd-9c71-4c5f-9366-78d6cb4adab2\",\"type\":\"ColumnDataSource\"},{\"attributes\":{},\"id\":\"74ae2b8f-abbf-42e5-a9e5-cf0436c5aaf7\",\"type\":\"Selection\"}],\"root_ids\":[\"546c82bd-0702-40a5-8b7f-076c3701b061\"]},\"title\":\"Bokeh Application\",\"version\":\"0.13.0\"}};\n",
       "  var render_items = [{\"docid\":\"d1dd3b8c-2191-495f-a057-61ee49a98034\",\"roots\":{\"546c82bd-0702-40a5-8b7f-076c3701b061\":\"7a5956c6-f5ea-4238-bc0b-f2777fa4d0cb\"}}];\n",
       "  root.Bokeh.embed.embed_items_notebook(docs_json, render_items);\n",
       "\n",
       "  }\n",
       "  if (root.Bokeh !== undefined) {\n",
       "    embed_document(root);\n",
       "  } else {\n",
       "    var attempts = 0;\n",
       "    var timer = setInterval(function(root) {\n",
       "      if (root.Bokeh !== undefined) {\n",
       "        embed_document(root);\n",
       "        clearInterval(timer);\n",
       "      }\n",
       "      attempts++;\n",
       "      if (attempts > 100) {\n",
       "        console.log(\"Bokeh: ERROR: Unable to run BokehJS code because BokehJS library is missing\")\n",
       "        clearInterval(timer);\n",
       "      }\n",
       "    }, 10, root)\n",
       "  }\n",
       "})(window);"
      ],
      "application/vnd.bokehjs_exec.v0+json": ""
     },
     "metadata": {
      "application/vnd.bokehjs_exec.v0+json": {
       "id": "546c82bd-0702-40a5-8b7f-076c3701b061"
      }
     },
     "output_type": "display_data"
    }
   ],
   "source": [
    "Years = ['07-09','09-11','11-13','13-15','15-17']\n",
    "d = [countd0/countal,countd1/countal,countd2/countal,countd3/countal,count4/countal]\n",
    "r = [countr0/countal,countr1/countal,countr2/countal,countr3/countal,countr4/countal]\n",
    "o = [counto0/countal,counto1/countal,counto2/countal,counto3/countal,counto4/countal]\n",
    "p3 = figure(title = 'Percentage of Senate Party From 2007-2017',x_axis_label='Year',y_axis_label='Percentage',plot_width = 400,plot_height = 450)\n",
    "p3.line(x = d,y= Years, legend = 'Democratic',line_color = 'tomato',line_width = 2)\n",
    "p3.line(x = r,y= Years, legend = 'Republican',line_color = 'indigo',line_width = 2)\n",
    "p3.line(x = o,y= Years, legend = 'Other Party',line_color = 'gold',line_width = 2)\n",
    "\n",
    "show(p3)"
   ]
  },
  {
   "cell_type": "code",
   "execution_count": 88,
   "metadata": {},
   "outputs": [
    {
     "data": {
      "text/plain": [
       "[0.019230769230769232,\n",
       " 0.025384615384615384,\n",
       " 0.020384615384615383,\n",
       " 0.021923076923076924,\n",
       " 0.2]"
      ]
     },
     "execution_count": 88,
     "metadata": {},
     "output_type": "execute_result"
    }
   ],
   "source": [
    "d"
   ]
  },
  {
   "cell_type": "code",
   "execution_count": 89,
   "metadata": {},
   "outputs": [
    {
     "data": {
      "text/plain": [
       "[0.019615384615384614,\n",
       " 0.016923076923076923,\n",
       " 0.018461538461538463,\n",
       " 0.01769230769230769,\n",
       " 0.02076923076923077]"
      ]
     },
     "execution_count": 89,
     "metadata": {},
     "output_type": "execute_result"
    }
   ],
   "source": [
    "r"
   ]
  },
  {
   "cell_type": "code",
   "execution_count": 90,
   "metadata": {},
   "outputs": [
    {
     "data": {
      "text/plain": [
       "[0.0003846153846153846,\n",
       " 0.0003846153846153846,\n",
       " 0.0003846153846153846,\n",
       " 0.0007692307692307692,\n",
       " 0.0007692307692307692]"
      ]
     },
     "execution_count": 90,
     "metadata": {},
     "output_type": "execute_result"
    }
   ],
   "source": [
    "o"
   ]
  },
  {
   "cell_type": "markdown",
   "metadata": {},
   "source": [
    "I don't know why thr graph didn't show but from the data below we can see that the percentage from these five periods between democratic and repubilican are almost the same, while other party have very little people in Senate.\n",
    "Still, it is kind of odd that those percentages don't add up to 100%."
   ]
  },
  {
   "cell_type": "code",
   "execution_count": null,
   "metadata": {},
   "outputs": [],
   "source": []
  }
 ],
 "metadata": {
  "kernelspec": {
   "display_name": "Python 3",
   "language": "python",
   "name": "python3"
  },
  "language_info": {
   "codemirror_mode": {
    "name": "ipython",
    "version": 3
   },
   "file_extension": ".py",
   "mimetype": "text/x-python",
   "name": "python",
   "nbconvert_exporter": "python",
   "pygments_lexer": "ipython3",
   "version": "3.7.0"
  }
 },
 "nbformat": 4,
 "nbformat_minor": 2
}
